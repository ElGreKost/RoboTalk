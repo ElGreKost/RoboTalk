{
 "cells": [
  {
   "cell_type": "code",
   "execution_count": 25,
   "id": "initial_id",
   "metadata": {
    "collapsed": true,
    "ExecuteTime": {
     "end_time": "2024-03-29T08:00:45.188424542Z",
     "start_time": "2024-03-29T08:00:45.128328760Z"
    }
   },
   "outputs": [
    {
     "name": "stdout",
     "output_type": "stream",
     "text": [
      "[0, 'a', 0]\n",
      "TensorDict(\n",
      "    fields={\n",
      "        a: Tensor(shape=torch.Size([3, 4]), device=cpu, dtype=torch.int64, is_shared=False),\n",
      "        b: TensorDict(\n",
      "            fields={\n",
      "                c: Tensor(shape=torch.Size([3, 5]), device=cpu, dtype=torch.int64, is_shared=False)},\n",
      "            batch_size=torch.Size([3]),\n",
      "            device=None,\n",
      "            is_shared=False)},\n",
      "    batch_size=torch.Size([3]),\n",
      "    device=None,\n",
      "    is_shared=False)\n",
      "the buffer has 3 elements\n",
      "samples tensor([[ 0,  1,  2,  3],\n",
      "        [ 0,  1,  2,  3],\n",
      "        [ 0,  1,  2,  3],\n",
      "        [ 0,  1,  2,  3],\n",
      "        [ 8,  9, 10, 11]]) \n",
      " tensor([[ 0,  1,  2,  3,  4],\n",
      "        [ 0,  1,  2,  3,  4],\n",
      "        [ 0,  1,  2,  3,  4],\n",
      "        [ 0,  1,  2,  3,  4],\n",
      "        [10, 11, 12, 13, 14]])\n",
      "The buffer has 3 elements\n",
      "samples: a= tensor([[ 8,  9, 10, 11],\n",
      "        [ 4,  5,  6,  7],\n",
      "        [ 8,  9, 10, 11],\n",
      "        [ 8,  9, 10, 11],\n",
      "        [ 0,  1,  2,  3]]) \n",
      "('b', 'c'): tensor([[10, 11, 12, 13, 14],\n",
      "        [ 5,  6,  7,  8,  9],\n",
      "        [10, 11, 12, 13, 14],\n",
      "        [10, 11, 12, 13, 14],\n",
      "        [ 0,  1,  2,  3,  4]])\n",
      "The buffer has 3 elements\n",
      "the 'a' tensor is stored in <TemporaryDirectory '/tmp/tmpeaolr5nj'>/a.memmap\n",
      "the ('b', 'c') tensor is stored in <TemporaryDirectory '/tmp/tmpeaolr5nj'>/b/c.memmap\n"
     ]
    }
   ],
   "source": [
    "import tempfile\n",
    "\n",
    "from torchrl.data import ReplayBuffer\n",
    "\n",
    "buffer = ReplayBuffer()\n",
    "len(buffer)\n",
    "buffer.extend(range(2000))\n",
    "len(buffer)\n",
    "\n",
    "# Storage:\n",
    "from torchrl.data import LazyMemmapStorage, LazyTensorStorage, ListStorage\n",
    "\n",
    "size = 100\n",
    "\n",
    "buffer_list = ReplayBuffer(storage=ListStorage(size), collate_fn=lambda x: x)\n",
    "buffer_list.extend([\"a\", 0, \"b\"])\n",
    "print(buffer_list.sample(3))\n",
    "buffer_lazytensor = ReplayBuffer(storage=LazyTensorStorage(size))\n",
    "\n",
    "import torch as th\n",
    "from tensordict import TensorDict\n",
    "\n",
    "data = TensorDict({\n",
    "    \"a\": th.arange(12).view(3, 4),\n",
    "    (\"b\", \"c\"): th.arange(15).view(3, 5)\n",
    "}, [3])\n",
    "print(data)\n",
    "\n",
    "# with extend now we initialize the buffer\n",
    "buffer_lazytensor.extend(data)\n",
    "print(f\"the buffer has {len(buffer_lazytensor)} elements\")\n",
    "sample = buffer_lazytensor.sample(5)\n",
    "print(\"samples\", sample[\"a\"], \"\\n\", sample[\"b\", \"c\"])\n",
    "\n",
    "buffer_lazymemmap = ReplayBuffer(storage=LazyMemmapStorage(size))\n",
    "buffer_lazymemmap.extend(data)\n",
    "\n",
    "print(f\"The buffer has {len(buffer_lazymemmap)} elements\")\n",
    "sample = buffer_lazytensor.sample(5)\n",
    "print(\"samples: a=\", sample[\"a\"], \"\\n('b', 'c'):\", sample[\"b\", \"c\"])\n",
    "\n",
    "tempdir = tempfile.TemporaryDirectory()\n",
    "buffer_lazymemmap = ReplayBuffer(storage=LazyMemmapStorage(size, scratch_dir=tempdir))\n",
    "buffer_lazymemmap.extend(data)\n",
    "print(f\"The buffer has {len(buffer_lazymemmap)} elements\")\n",
    "print(\"the 'a' tensor is stored in\", buffer_lazymemmap._storage._storage[\"a\"].filename)\n",
    "print(\n",
    "    \"the ('b', 'c') tensor is stored in\",\n",
    "    buffer_lazymemmap._storage._storage[\"b\", \"c\"].filename,\n",
    ")"
   ]
  },
  {
   "cell_type": "code",
   "execution_count": 27,
   "outputs": [
    {
     "name": "stdout",
     "output_type": "stream",
     "text": [
      "The buffer has 3 elements\n",
      "sample: TensorDict(\n",
      "    fields={\n",
      "        a: Tensor(shape=torch.Size([12, 4]), device=cpu, dtype=torch.int64, is_shared=False),\n",
      "        b: TensorDict(\n",
      "            fields={\n",
      "                c: Tensor(shape=torch.Size([12, 5]), device=cpu, dtype=torch.int64, is_shared=False)},\n",
      "            batch_size=torch.Size([12]),\n",
      "            device=cpu,\n",
      "            is_shared=False),\n",
      "        index: Tensor(shape=torch.Size([12]), device=cpu, dtype=torch.int64, is_shared=False)},\n",
      "    batch_size=torch.Size([12]),\n",
      "    device=cpu,\n",
      "    is_shared=False)\n",
      "tensor([0, 0, 2, 0, 2, 2, 2, 2, 2, 2, 2, 0])\n",
      "The buffer has 100 elements\n",
      "sample: MyData(\n",
      "    images=Tensor(shape=torch.Size([128, 64, 64, 3]), device=cpu, dtype=torch.int64, is_shared=False),\n",
      "    labels=Tensor(shape=torch.Size([128]), device=cpu, dtype=torch.int64, is_shared=False),\n",
      "    batch_size=torch.Size([128]),\n",
      "    device=cpu,\n",
      "    is_shared=False)\n"
     ]
    }
   ],
   "source": [
    "from torchrl.data import TensorDictReplayBuffer\n",
    "\n",
    "tempdir = tempfile.TemporaryDirectory()\n",
    "buffer_lazymemmap = TensorDictReplayBuffer(\n",
    "    storage=LazyMemmapStorage(size, scratch_dir=tempdir), batch_size=12\n",
    ")\n",
    "buffer_lazymemmap.extend(data)\n",
    "print(f\"The buffer has {len(buffer_lazymemmap)} elements\")\n",
    "sample = buffer_lazymemmap.sample()\n",
    "print(\"sample:\", sample)\n",
    "print(sample[\"index\"])\n",
    "\n",
    "# With custom data\n",
    "from tensordict import tensorclass\n",
    "\n",
    "\n",
    "@tensorclass\n",
    "class MyData:\n",
    "    images: th.Tensor\n",
    "    labels: th.Tensor\n",
    "\n",
    "\n",
    "# fixed batch-size ->fixed return on sample\n",
    "data = MyData(\n",
    "    images=th.randint(\n",
    "        255,\n",
    "        (200, 64, 64, 3),\n",
    "    ),\n",
    "    labels=th.randint(100, (200,)),\n",
    "    batch_size=[200],\n",
    ")\n",
    "\n",
    "buffer_lazymemmap = ReplayBuffer(storage=LazyMemmapStorage(size), batch_size=128)\n",
    "buffer_lazymemmap.extend(data)\n",
    "print(f\"The buffer has {len(buffer_lazymemmap)} elements\")\n",
    "sample = buffer_lazymemmap.sample()\n",
    "print(\"sample:\", sample)"
   ],
   "metadata": {
    "collapsed": false,
    "ExecuteTime": {
     "end_time": "2024-03-29T08:00:53.048801113Z",
     "start_time": "2024-03-29T08:00:52.988120834Z"
    }
   },
   "id": "ab72edfb1934eb27"
  },
  {
   "cell_type": "code",
   "execution_count": 28,
   "outputs": [
    {
     "name": "stdout",
     "output_type": "stream",
     "text": [
      "MyData(\n",
      "    images=Tensor(shape=torch.Size([128, 64, 64, 3]), device=cpu, dtype=torch.int64, is_shared=False),\n",
      "    labels=Tensor(shape=torch.Size([128]), device=cpu, dtype=torch.int64, is_shared=False),\n",
      "    batch_size=torch.Size([128]),\n",
      "    device=cpu,\n",
      "    is_shared=False)\n"
     ]
    }
   ],
   "source": [
    "for i, data in enumerate(buffer_lazymemmap):\n",
    "    if i == 3:\n",
    "        print(data)\n",
    "        break\n"
   ],
   "metadata": {
    "collapsed": false,
    "ExecuteTime": {
     "end_time": "2024-03-29T08:01:42.445363945Z",
     "start_time": "2024-03-29T08:01:42.396835185Z"
    }
   },
   "id": "ccc4e640ff2fef2b"
  },
  {
   "cell_type": "code",
   "execution_count": 33,
   "outputs": [
    {
     "name": "stdout",
     "output_type": "stream",
     "text": [
      "16\n",
      "TensorDict(\n",
      "    fields={\n",
      "        a: Tensor(shape=torch.Size([16, 4]), device=cpu, dtype=torch.int64, is_shared=False),\n",
      "        b: TensorDict(\n",
      "            fields={\n",
      "                c: Tensor(shape=torch.Size([16, 8]), device=cpu, dtype=torch.int64, is_shared=False)},\n",
      "            batch_size=torch.Size([16]),\n",
      "            device=cpu,\n",
      "            is_shared=False)},\n",
      "    batch_size=torch.Size([16]),\n",
      "    device=cpu,\n",
      "    is_shared=False)\n",
      "A total of 1 batches have been collected\n"
     ]
    }
   ],
   "source": [
    "from torchrl.data.replay_buffers.samplers import SamplerWithoutReplacement\n",
    "\n",
    "buffer_lazymemmap = ReplayBuffer(\n",
    "    storage=LazyMemmapStorage(size), batch_size=32, sampler=SamplerWithoutReplacement()\n",
    ")\n",
    "\n",
    "data = TensorDict(\n",
    "    {\n",
    "        \"a\": th.arange(64).view(16, 4),\n",
    "        (\"b\", \"c\"): th.arange(128).view(16, 8),\n",
    "    },\n",
    "    batch_size=[16],\n",
    ")\n",
    "\n",
    "buffer_lazymemmap.extend(data)\n",
    "print(len(buffer_lazymemmap))\n",
    "for _i, data in enumerate(buffer_lazymemmap):\n",
    "    print(data)\n",
    "    continue\n",
    "print(f\"A total of {_i + 1} batches have been collected\")"
   ],
   "metadata": {
    "collapsed": false,
    "ExecuteTime": {
     "end_time": "2024-03-29T08:06:16.639555969Z",
     "start_time": "2024-03-29T08:06:16.589343128Z"
    }
   },
   "id": "3f1b50569803f5f1"
  },
  {
   "cell_type": "markdown",
   "source": [
    "# Prioritized Replay Buffers"
   ],
   "metadata": {
    "collapsed": false
   },
   "id": "4577cebd54436b7d"
  },
  {
   "cell_type": "code",
   "execution_count": 0,
   "outputs": [],
   "source": [
    "from torchrl.data.replay_buffers.samplers import PrioritizedSampler\n",
    "\n",
    "size = 100\n",
    "\n",
    "rb = ReplayBuffer(\n",
    "    storage=ListStorage(size),\n",
    "    sampler=PrioritizedSampler(max_capacity=size, alpha=0.8, beta=1.1),\n",
    "    collate_fn=lambda x: x\n",
    ")\n",
    "\n",
    "indices = rb.extend([1, \"foo\", None])\n",
    "rb.update_priority(index=indices, priority=th.tensor([0, 1_000, 0.1]))\n",
    "sample, info = rb.sample(10, return_info=True)\n",
    "print(sample)\n",
    "print(info)"
   ],
   "metadata": {
    "collapsed": false
   },
   "id": "92bda1bc73fd432e"
  },
  {
   "cell_type": "code",
   "execution_count": 81,
   "outputs": [
    {
     "data": {
      "text/plain": "(array([ 37.,  24.,  77.,  67.,  75., 138.,  88., 180.,  96., 242.]),\n array([ 1. ,  2.4,  3.8,  5.2,  6.6,  8. ,  9.4, 10.8, 12.2, 13.6, 15. ]),\n <BarContainer object of 10 artists>)"
     },
     "execution_count": 81,
     "metadata": {},
     "output_type": "execute_result"
    },
    {
     "data": {
      "text/plain": "<Figure size 640x480 with 1 Axes>",
      "image/png": "[encoded data removed]"
     },
     "metadata": {},
     "output_type": "display_data"
    }
   ],
   "source": [
    "\"\"\" Auto Update Weights with loss from sample and loss\n",
    ">>> data = replay_buffer.sample()\n",
    ">>> loss_val = loss_module(data)\n",
    ">>> replay_buffer.update_tensordict_priority(data)\n",
    "\"\"\"\n",
    "\n",
    "rb = TensorDictReplayBuffer(\n",
    "    storage=ListStorage(size),\n",
    "    sampler=PrioritizedSampler(size, alpha=0.8, beta=1.1),\n",
    "    priority_key=\"td_error\",\n",
    "    batch_size=1024,\n",
    ")\n",
    "\n",
    "# higher values have higher error so higher prob\n",
    "data[\"td_error\"] = th.arange(data.numel())\n",
    "\n",
    "rb.extend(data)\n",
    "\n",
    "sample = rb.sample()\n",
    "\n",
    "from matplotlib import pyplot as plt\n",
    "\n",
    "plt.hist(sample[\"index\"].numpy())"
   ],
   "metadata": {
    "collapsed": false,
    "ExecuteTime": {
     "end_time": "2024-03-29T08:15:46.066004853Z",
     "start_time": "2024-03-29T08:15:45.847194235Z"
    }
   },
   "id": "27fe3710e35b980d"
  },
  {
   "cell_type": "code",
   "execution_count": 84,
   "outputs": [
    {
     "data": {
      "text/plain": "(array([217., 123., 184.,  85.,  79., 138.,  55.,  86.,  34.,  23.]),\n array([ 1. ,  2.4,  3.8,  5.2,  6.6,  8. ,  9.4, 10.8, 12.2, 13.6, 15. ]),\n <BarContainer object of 10 artists>)"
     },
     "execution_count": 84,
     "metadata": {},
     "output_type": "execute_result"
    },
    {
     "data": {
      "text/plain": "<Figure size 640x480 with 1 Axes>",
      "image/png": "[encoded data removed]"
     },
     "metadata": {},
     "output_type": "display_data"
    }
   ],
   "source": [
    "sample = rb.sample()\n",
    "# higher values have lower error so lower prob\n",
    "sample[\"td_error\"] = data.numel() - sample[\"index\"]\n",
    "rb.update_tensordict_priority(sample)\n",
    "\n",
    "sample = rb.sample()\n",
    "from matplotlib import pyplot as plt\n",
    "\n",
    "plt.hist(sample[\"index\"].numpy())\n"
   ],
   "metadata": {
    "collapsed": false,
    "ExecuteTime": {
     "end_time": "2024-03-29T08:19:27.999450134Z",
     "start_time": "2024-03-29T08:19:27.845820296Z"
    }
   },
   "id": "1cf4b1a2f830308d"
  }
 ],
 "metadata": {
  "kernelspec": {
   "display_name": "Python 3",
   "language": "python",
   "name": "python3"
  },
  "language_info": {
   "codemirror_mode": {
    "name": "ipython",
    "version": 2
   },
   "file_extension": ".py",
   "mimetype": "text/x-python",
   "name": "python",
   "nbconvert_exporter": "python",
   "pygments_lexer": "ipython2",
   "version": "2.7.6"
  }
 },
 "nbformat": 4,
 "nbformat_minor": 5
}
