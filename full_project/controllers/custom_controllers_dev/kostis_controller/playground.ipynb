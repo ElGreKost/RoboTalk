{
 "cells": [
  {
   "cell_type": "code",
   "execution_count": 157,
   "id": "initial_id",
   "metadata": {
    "collapsed": true,
    "ExecuteTime": {
     "end_time": "2024-03-20T19:42:40.162072338Z",
     "start_time": "2024-03-20T19:42:40.152359075Z"
    }
   },
   "outputs": [
    {
     "name": "stdout",
     "output_type": "stream",
     "text": [
      "td (randn) is within bounds:  False\n",
      "td (rand) is within bounds:  True\n",
      "td modification done in place:  True\n"
     ]
    }
   ],
   "source": [
    "# noinspection PyPackageRequirements\n",
    "import torch\n",
    "from tensordict import TensorDict\n",
    "\n",
    "from torchrl.data import BoundedTensorSpec, CompositeSpec\n",
    "\n",
    "pixels_spec = BoundedTensorSpec(torch.zeros(3, 32, 32), torch.ones(3, 32, 32))\n",
    "observations_vector_spec = BoundedTensorSpec(torch.zeros(33), torch.ones(33))\n",
    "composite_spec = CompositeSpec(pixels=pixels_spec, observation_vector=observations_vector_spec)\n",
    "td = TensorDict({\"pixels\": torch.randn(10,3,32,32),\n",
    "   \"observation_vector\": torch.randn(10,33)}, batch_size=[10])\n",
    "print(\"td (randn) is within bounds: \", composite_spec.is_in(td))\n",
    "\n",
    "td = TensorDict({\"pixels\": torch.rand(10,3,32,32),\n",
    "   \"observation_vector\": torch.rand(10,33)}, batch_size=[10])\n",
    "print(\"td (rand) is within bounds: \", composite_spec.is_in(td))\n",
    "\n",
    "td_project = composite_spec.project(td)\n",
    "print(\"td modification done in place: \", td_project is td)\n"
   ]
  }
 ],
 "metadata": {
  "kernelspec": {
   "display_name": "Python 3",
   "language": "python",
   "name": "python3"
  },
  "language_info": {
   "codemirror_mode": {
    "name": "ipython",
    "version": 2
   },
   "file_extension": ".py",
   "mimetype": "text/x-python",
   "name": "python",
   "nbconvert_exporter": "python",
   "pygments_lexer": "ipython2",
   "version": "2.7.6"
  }
 },
 "nbformat": 4,
 "nbformat_minor": 5
}
